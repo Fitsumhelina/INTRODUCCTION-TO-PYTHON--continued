{
 "cells": [
  {
   "cell_type": "markdown",
   "metadata": {},
   "source": [
    "1. Even or Odd:\n",
    "Write a Python function that, given an integer, determines whether it is even or odd. Can you provide a few examples to test your function?"
   ]
  },
  {
   "cell_type": "code",
   "execution_count": null,
   "metadata": {},
   "outputs": [],
   "source": [
    "# Your code here\n",
    "def even_or_odd(num):\n",
    "    pass\n",
    "# Test examples\n",
    "print(even_or_odd(4))  # Should print \"Even\"\n",
    "print(even_or_odd(7))  # Should print \"Odd\""
   ]
  },
  {
   "cell_type": "markdown",
   "metadata": {},
   "source": [
    "2. List Manipulation:\n",
    "Create a Python function that takes a list of numbers and returns a new list containing only the even numbers. How would you verify that your function works as expected?"
   ]
  },
  {
   "cell_type": "code",
   "execution_count": null,
   "metadata": {},
   "outputs": [],
   "source": [
    "# Your code here\n",
    "def filter_even_numbers(num):\n",
    "    pass\n",
    "# Test example\n",
    "print(filter_even_numbers([1, 2, 3, 4, 5, 6]))  # Should print [2, 4, 6]\n"
   ]
  },
  {
   "cell_type": "markdown",
   "metadata": {},
   "source": [
    "3. Sum of Digits:\n",
    "Implement a Python function that calculates the sum of the digits of a given positive integer. Can you test your function with different numbers?"
   ]
  },
  {
   "cell_type": "code",
   "execution_count": null,
   "metadata": {},
   "outputs": [],
   "source": [
    "# Your code here\n",
    "def sum(numbers):\n",
    "    pass\n",
    "# Test examples\n",
    "sum([1,2,3])  # Should print 6\n",
    "sum([9,8,7])  # Should print 24\n"
   ]
  },
  {
   "cell_type": "markdown",
   "metadata": {},
   "source": [
    "4. Temperature Converter:\n",
    "Create a Python function that converts temperatures between Celsius and Fahrenheit. How would you handle input validation to ensure valid temperature values?"
   ]
  },
  {
   "cell_type": "code",
   "execution_count": null,
   "metadata": {},
   "outputs": [],
   "source": [
    "# Your code here\n",
    "def celsius_to_fahrenheit (temp):\n",
    "    pass\n",
    "# Test example\n",
    "print(celsius_to_fahrenheit(25))  # Should print 77.0\n"
   ]
  },
  {
   "cell_type": "markdown",
   "metadata": {},
   "source": [
    "5. Vowel Counter:\n",
    "Implement a Python function that counts the number of vowels in a given string. How would your function handle uppercase and lowercase vowels?"
   ]
  },
  {
   "cell_type": "code",
   "execution_count": null,
   "metadata": {},
   "outputs": [],
   "source": [
    "# Your code here\n",
    "def count_vowels(name):\n",
    "    pass\n",
    "# Test example\n",
    "print(count_vowels(\"hello world\"))  # Should print 3\n"
   ]
  },
  {
   "cell_type": "markdown",
   "metadata": {},
   "source": [
    "6. Factorial Iteration:\n",
    "Write a Python function to calculate the factorial of a given number using iteration (loops). How would you handle the factorial of zero?"
   ]
  },
  {
   "cell_type": "code",
   "execution_count": null,
   "metadata": {},
   "outputs": [],
   "source": [
    "# Your code here\n",
    "def calculate_factorial(n):\n",
    "    pass\n",
    "# Test example\n",
    "print(calculate_factorial(5))  # Should print 120\n"
   ]
  },
  {
   "cell_type": "markdown",
   "metadata": {},
   "source": [
    "7. Unique Elements:\n",
    "Implement a Python function that takes a list as input and returns a new list with only the unique elements, removing duplicates. How efficient is your solution for large lists?"
   ]
  },
  {
   "cell_type": "code",
   "execution_count": null,
   "metadata": {},
   "outputs": [],
   "source": [
    "# Your code here\n",
    "def get_unique_elements (num):\n",
    "    pass\n",
    "# Test example\n",
    "print(get_unique_elements([1, 2, 2, 3, 4, 4, 5]))  # Should print [1, 2, 3, 4, 5]\n"
   ]
  }
 ],
 "metadata": {
  "language_info": {
   "name": "python"
  }
 },
 "nbformat": 4,
 "nbformat_minor": 2
}
